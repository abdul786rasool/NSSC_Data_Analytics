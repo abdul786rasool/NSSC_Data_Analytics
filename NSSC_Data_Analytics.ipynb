{
 "cells": [
  {
   "cell_type": "code",
   "execution_count": 1,
   "metadata": {
    "id": "CLdKsVmJWSK9"
   },
   "outputs": [],
   "source": [
    "import pandas as pd\n",
    "import numpy as np\n",
    "df = pd.read_csv(r\"phl_exoplanet_catalog_2019.csv\")"
   ]
  },
  {
   "cell_type": "code",
   "execution_count": 2,
   "metadata": {
    "colab": {
     "base_uri": "https://localhost:8080/"
    },
    "id": "YCeeH6OvWuGq",
    "outputId": "a8ba55a8-bb13-4485-ef28-d6aee59997a4"
   },
   "outputs": [
    {
     "data": {
      "text/plain": [
       "(4048, 112)"
      ]
     },
     "execution_count": 2,
     "metadata": {},
     "output_type": "execute_result"
    }
   ],
   "source": [
    "df.shape"
   ]
  },
  {
   "cell_type": "code",
   "execution_count": 3,
   "metadata": {
    "colab": {
     "base_uri": "https://localhost:8080/"
    },
    "id": "HWHUziKHWuJ7",
    "outputId": "b6ccd26b-5c5d-496b-b654-9bc0f9d05cd0"
   },
   "outputs": [
    {
     "name": "stdout",
     "output_type": "stream",
     "text": [
      "<class 'pandas.core.frame.DataFrame'>\n",
      "RangeIndex: 4048 entries, 0 to 4047\n",
      "Columns: 112 entries, P_NAME to P_SEMI_MAJOR_AXIS_EST\n",
      "dtypes: float64(94), int64(4), object(14)\n",
      "memory usage: 3.5+ MB\n"
     ]
    }
   ],
   "source": [
    "df.info()"
   ]
  },
  {
   "cell_type": "code",
   "execution_count": 4,
   "metadata": {
    "colab": {
     "base_uri": "https://localhost:8080/",
     "height": 349
    },
    "id": "fLgC4zhaWzWc",
    "outputId": "d0da9b94-ec51-4388-ced1-9fb5dfd63a4e"
   },
   "outputs": [
    {
     "data": {
      "text/html": [
       "<div>\n",
       "<style scoped>\n",
       "    .dataframe tbody tr th:only-of-type {\n",
       "        vertical-align: middle;\n",
       "    }\n",
       "\n",
       "    .dataframe tbody tr th {\n",
       "        vertical-align: top;\n",
       "    }\n",
       "\n",
       "    .dataframe thead th {\n",
       "        text-align: right;\n",
       "    }\n",
       "</style>\n",
       "<table border=\"1\" class=\"dataframe\">\n",
       "  <thead>\n",
       "    <tr style=\"text-align: right;\">\n",
       "      <th></th>\n",
       "      <th>P_STATUS</th>\n",
       "      <th>P_MASS</th>\n",
       "      <th>P_MASS_ERROR_MIN</th>\n",
       "      <th>P_MASS_ERROR_MAX</th>\n",
       "      <th>P_RADIUS</th>\n",
       "      <th>P_RADIUS_ERROR_MIN</th>\n",
       "      <th>P_RADIUS_ERROR_MAX</th>\n",
       "      <th>P_YEAR</th>\n",
       "      <th>P_PERIOD</th>\n",
       "      <th>P_PERIOD_ERROR_MIN</th>\n",
       "      <th>...</th>\n",
       "      <th>S_SNOW_LINE</th>\n",
       "      <th>S_ABIO_ZONE</th>\n",
       "      <th>S_TIDAL_LOCK</th>\n",
       "      <th>P_HABZONE_OPT</th>\n",
       "      <th>P_HABZONE_CON</th>\n",
       "      <th>P_HABITABLE</th>\n",
       "      <th>P_ESI</th>\n",
       "      <th>P_RADIUS_EST</th>\n",
       "      <th>P_MASS_EST</th>\n",
       "      <th>P_SEMI_MAJOR_AXIS_EST</th>\n",
       "    </tr>\n",
       "  </thead>\n",
       "  <tbody>\n",
       "    <tr>\n",
       "      <th>count</th>\n",
       "      <td>4048.0</td>\n",
       "      <td>1598.000000</td>\n",
       "      <td>1467.000000</td>\n",
       "      <td>1467.000000</td>\n",
       "      <td>3139.000000</td>\n",
       "      <td>3105.000000</td>\n",
       "      <td>3105.000000</td>\n",
       "      <td>4048.000000</td>\n",
       "      <td>3.938000e+03</td>\n",
       "      <td>3.807000e+03</td>\n",
       "      <td>...</td>\n",
       "      <td>3786.000000</td>\n",
       "      <td>3.083000e+03</td>\n",
       "      <td>3281.000000</td>\n",
       "      <td>4048.000000</td>\n",
       "      <td>4048.000000</td>\n",
       "      <td>4048.000000</td>\n",
       "      <td>3721.000000</td>\n",
       "      <td>4048.000000</td>\n",
       "      <td>4048.000000</td>\n",
       "      <td>3978.000000</td>\n",
       "    </tr>\n",
       "    <tr>\n",
       "      <th>mean</th>\n",
       "      <td>3.0</td>\n",
       "      <td>798.384920</td>\n",
       "      <td>-152.292232</td>\n",
       "      <td>190.289692</td>\n",
       "      <td>4.191426</td>\n",
       "      <td>-0.483990</td>\n",
       "      <td>0.621867</td>\n",
       "      <td>2014.212945</td>\n",
       "      <td>2.309342e+03</td>\n",
       "      <td>-1.073631e+03</td>\n",
       "      <td>...</td>\n",
       "      <td>3.513348</td>\n",
       "      <td>1.768991e+35</td>\n",
       "      <td>0.440103</td>\n",
       "      <td>0.049654</td>\n",
       "      <td>0.034091</td>\n",
       "      <td>0.021986</td>\n",
       "      <td>0.261252</td>\n",
       "      <td>5.588647</td>\n",
       "      <td>323.089993</td>\n",
       "      <td>4.011385</td>\n",
       "    </tr>\n",
       "    <tr>\n",
       "      <th>std</th>\n",
       "      <td>0.0</td>\n",
       "      <td>1406.808654</td>\n",
       "      <td>783.366353</td>\n",
       "      <td>1082.061976</td>\n",
       "      <td>4.776830</td>\n",
       "      <td>1.409048</td>\n",
       "      <td>2.007592</td>\n",
       "      <td>3.704839</td>\n",
       "      <td>1.167012e+05</td>\n",
       "      <td>5.943181e+04</td>\n",
       "      <td>...</td>\n",
       "      <td>5.463171</td>\n",
       "      <td>6.944274e+36</td>\n",
       "      <td>0.074285</td>\n",
       "      <td>0.217256</td>\n",
       "      <td>0.181485</td>\n",
       "      <td>0.195731</td>\n",
       "      <td>0.131333</td>\n",
       "      <td>5.392733</td>\n",
       "      <td>965.084290</td>\n",
       "      <td>62.389968</td>\n",
       "    </tr>\n",
       "    <tr>\n",
       "      <th>min</th>\n",
       "      <td>3.0</td>\n",
       "      <td>0.019070</td>\n",
       "      <td>-24965.390000</td>\n",
       "      <td>0.000000</td>\n",
       "      <td>0.336300</td>\n",
       "      <td>-54.592700</td>\n",
       "      <td>0.000000</td>\n",
       "      <td>1989.000000</td>\n",
       "      <td>9.070629e-02</td>\n",
       "      <td>-3.650000e+06</td>\n",
       "      <td>...</td>\n",
       "      <td>0.002405</td>\n",
       "      <td>7.293660e-05</td>\n",
       "      <td>0.030707</td>\n",
       "      <td>0.000000</td>\n",
       "      <td>0.000000</td>\n",
       "      <td>0.000000</td>\n",
       "      <td>0.006768</td>\n",
       "      <td>0.000000</td>\n",
       "      <td>0.000000</td>\n",
       "      <td>0.004400</td>\n",
       "    </tr>\n",
       "    <tr>\n",
       "      <th>25%</th>\n",
       "      <td>3.0</td>\n",
       "      <td>26.548968</td>\n",
       "      <td>-79.457001</td>\n",
       "      <td>4.449592</td>\n",
       "      <td>1.569400</td>\n",
       "      <td>-0.526870</td>\n",
       "      <td>0.145730</td>\n",
       "      <td>2014.000000</td>\n",
       "      <td>4.497336e+00</td>\n",
       "      <td>-1.129000e-03</td>\n",
       "      <td>...</td>\n",
       "      <td>1.740762</td>\n",
       "      <td>5.264169e-01</td>\n",
       "      <td>0.420337</td>\n",
       "      <td>0.000000</td>\n",
       "      <td>0.000000</td>\n",
       "      <td>0.000000</td>\n",
       "      <td>0.196982</td>\n",
       "      <td>1.703920</td>\n",
       "      <td>3.628101</td>\n",
       "      <td>0.053000</td>\n",
       "    </tr>\n",
       "    <tr>\n",
       "      <th>50%</th>\n",
       "      <td>3.0</td>\n",
       "      <td>273.332080</td>\n",
       "      <td>-24.154928</td>\n",
       "      <td>25.108412</td>\n",
       "      <td>2.331680</td>\n",
       "      <td>-0.235410</td>\n",
       "      <td>0.325090</td>\n",
       "      <td>2016.000000</td>\n",
       "      <td>1.187053e+01</td>\n",
       "      <td>-9.392000e-05</td>\n",
       "      <td>...</td>\n",
       "      <td>2.568600</td>\n",
       "      <td>1.429118e+00</td>\n",
       "      <td>0.448357</td>\n",
       "      <td>0.000000</td>\n",
       "      <td>0.000000</td>\n",
       "      <td>0.000000</td>\n",
       "      <td>0.271192</td>\n",
       "      <td>2.667980</td>\n",
       "      <td>7.815324</td>\n",
       "      <td>0.102199</td>\n",
       "    </tr>\n",
       "    <tr>\n",
       "      <th>75%</th>\n",
       "      <td>3.0</td>\n",
       "      <td>806.488560</td>\n",
       "      <td>-4.392383</td>\n",
       "      <td>85.813561</td>\n",
       "      <td>3.553570</td>\n",
       "      <td>-0.134520</td>\n",
       "      <td>0.661390</td>\n",
       "      <td>2016.000000</td>\n",
       "      <td>4.186661e+01</td>\n",
       "      <td>-1.594000e-05</td>\n",
       "      <td>...</td>\n",
       "      <td>3.661581</td>\n",
       "      <td>2.641037e+00</td>\n",
       "      <td>0.472140</td>\n",
       "      <td>0.000000</td>\n",
       "      <td>0.000000</td>\n",
       "      <td>0.000000</td>\n",
       "      <td>0.303346</td>\n",
       "      <td>11.770500</td>\n",
       "      <td>149.379160</td>\n",
       "      <td>0.260507</td>\n",
       "    </tr>\n",
       "    <tr>\n",
       "      <th>max</th>\n",
       "      <td>3.0</td>\n",
       "      <td>17668.059000</td>\n",
       "      <td>0.270000</td>\n",
       "      <td>26630.808000</td>\n",
       "      <td>77.349000</td>\n",
       "      <td>0.450000</td>\n",
       "      <td>68.919080</td>\n",
       "      <td>2019.000000</td>\n",
       "      <td>7.300000e+06</td>\n",
       "      <td>3.200000e-02</td>\n",
       "      <td>...</td>\n",
       "      <td>104.112780</td>\n",
       "      <td>2.726899e+38</td>\n",
       "      <td>1.322542</td>\n",
       "      <td>1.000000</td>\n",
       "      <td>1.000000</td>\n",
       "      <td>2.000000</td>\n",
       "      <td>0.931208</td>\n",
       "      <td>77.349000</td>\n",
       "      <td>17668.059000</td>\n",
       "      <td>2500.000000</td>\n",
       "    </tr>\n",
       "  </tbody>\n",
       "</table>\n",
       "<p>8 rows × 98 columns</p>\n",
       "</div>"
      ],
      "text/plain": [
       "       P_STATUS        P_MASS  P_MASS_ERROR_MIN  P_MASS_ERROR_MAX  \\\n",
       "count    4048.0   1598.000000       1467.000000       1467.000000   \n",
       "mean        3.0    798.384920       -152.292232        190.289692   \n",
       "std         0.0   1406.808654        783.366353       1082.061976   \n",
       "min         3.0      0.019070     -24965.390000          0.000000   \n",
       "25%         3.0     26.548968        -79.457001          4.449592   \n",
       "50%         3.0    273.332080        -24.154928         25.108412   \n",
       "75%         3.0    806.488560         -4.392383         85.813561   \n",
       "max         3.0  17668.059000          0.270000      26630.808000   \n",
       "\n",
       "          P_RADIUS  P_RADIUS_ERROR_MIN  P_RADIUS_ERROR_MAX       P_YEAR  \\\n",
       "count  3139.000000         3105.000000         3105.000000  4048.000000   \n",
       "mean      4.191426           -0.483990            0.621867  2014.212945   \n",
       "std       4.776830            1.409048            2.007592     3.704839   \n",
       "min       0.336300          -54.592700            0.000000  1989.000000   \n",
       "25%       1.569400           -0.526870            0.145730  2014.000000   \n",
       "50%       2.331680           -0.235410            0.325090  2016.000000   \n",
       "75%       3.553570           -0.134520            0.661390  2016.000000   \n",
       "max      77.349000            0.450000           68.919080  2019.000000   \n",
       "\n",
       "           P_PERIOD  P_PERIOD_ERROR_MIN  ...  S_SNOW_LINE   S_ABIO_ZONE  \\\n",
       "count  3.938000e+03        3.807000e+03  ...  3786.000000  3.083000e+03   \n",
       "mean   2.309342e+03       -1.073631e+03  ...     3.513348  1.768991e+35   \n",
       "std    1.167012e+05        5.943181e+04  ...     5.463171  6.944274e+36   \n",
       "min    9.070629e-02       -3.650000e+06  ...     0.002405  7.293660e-05   \n",
       "25%    4.497336e+00       -1.129000e-03  ...     1.740762  5.264169e-01   \n",
       "50%    1.187053e+01       -9.392000e-05  ...     2.568600  1.429118e+00   \n",
       "75%    4.186661e+01       -1.594000e-05  ...     3.661581  2.641037e+00   \n",
       "max    7.300000e+06        3.200000e-02  ...   104.112780  2.726899e+38   \n",
       "\n",
       "       S_TIDAL_LOCK  P_HABZONE_OPT  P_HABZONE_CON  P_HABITABLE        P_ESI  \\\n",
       "count   3281.000000    4048.000000    4048.000000  4048.000000  3721.000000   \n",
       "mean       0.440103       0.049654       0.034091     0.021986     0.261252   \n",
       "std        0.074285       0.217256       0.181485     0.195731     0.131333   \n",
       "min        0.030707       0.000000       0.000000     0.000000     0.006768   \n",
       "25%        0.420337       0.000000       0.000000     0.000000     0.196982   \n",
       "50%        0.448357       0.000000       0.000000     0.000000     0.271192   \n",
       "75%        0.472140       0.000000       0.000000     0.000000     0.303346   \n",
       "max        1.322542       1.000000       1.000000     2.000000     0.931208   \n",
       "\n",
       "       P_RADIUS_EST    P_MASS_EST  P_SEMI_MAJOR_AXIS_EST  \n",
       "count   4048.000000   4048.000000            3978.000000  \n",
       "mean       5.588647    323.089993               4.011385  \n",
       "std        5.392733    965.084290              62.389968  \n",
       "min        0.000000      0.000000               0.004400  \n",
       "25%        1.703920      3.628101               0.053000  \n",
       "50%        2.667980      7.815324               0.102199  \n",
       "75%       11.770500    149.379160               0.260507  \n",
       "max       77.349000  17668.059000            2500.000000  \n",
       "\n",
       "[8 rows x 98 columns]"
      ]
     },
     "execution_count": 4,
     "metadata": {},
     "output_type": "execute_result"
    }
   ],
   "source": [
    "df.describe()"
   ]
  },
  {
   "cell_type": "code",
   "execution_count": 5,
   "metadata": {
    "colab": {
     "base_uri": "https://localhost:8080/"
    },
    "id": "XbCutV3OW3oU",
    "outputId": "75ce1b93-e4e9-457b-bb9f-d1b3d826edfc"
   },
   "outputs": [
    {
     "data": {
      "text/plain": [
       "P_NAME                      0\n",
       "P_STATUS                    0\n",
       "P_MASS                   2450\n",
       "P_MASS_ERROR_MIN         2581\n",
       "P_MASS_ERROR_MAX         2581\n",
       "                         ... \n",
       "S_CONSTELLATION_ABR         0\n",
       "S_CONSTELLATION_ENG         0\n",
       "P_RADIUS_EST                0\n",
       "P_MASS_EST                  0\n",
       "P_SEMI_MAJOR_AXIS_EST      70\n",
       "Length: 112, dtype: int64"
      ]
     },
     "execution_count": 5,
     "metadata": {},
     "output_type": "execute_result"
    }
   ],
   "source": [
    "df.isna().sum()"
   ]
  },
  {
   "cell_type": "code",
   "execution_count": 6,
   "metadata": {
    "colab": {
     "base_uri": "https://localhost:8080/"
    },
    "id": "2rruJAo8ZHW-",
    "outputId": "0bb0a280-75ff-48f1-82d4-28daaa581e79"
   },
   "outputs": [
    {
     "name": "stdout",
     "output_type": "stream",
     "text": [
      "<class 'pandas.core.frame.DataFrame'>\n"
     ]
    }
   ],
   "source": [
    "print(type(df))"
   ]
  },
  {
   "cell_type": "code",
   "execution_count": 7,
   "metadata": {
    "colab": {
     "base_uri": "https://localhost:8080/",
     "height": 409
    },
    "id": "86yJNwyWwkXU",
    "outputId": "1270d59a-bdf4-4e2c-8f9f-586d6e4eaf82"
   },
   "outputs": [
    {
     "ename": "ModuleNotFoundError",
     "evalue": "No module named 'google.colab'",
     "output_type": "error",
     "traceback": [
      "\u001b[1;31m---------------------------------------------------------------------------\u001b[0m",
      "\u001b[1;31mModuleNotFoundError\u001b[0m                       Traceback (most recent call last)",
      "\u001b[1;32m~\\AppData\\Local\\Temp\\ipykernel_19224\\243841771.py\u001b[0m in \u001b[0;36m<module>\u001b[1;34m\u001b[0m\n\u001b[1;32m----> 1\u001b[1;33m \u001b[1;32mfrom\u001b[0m \u001b[0mgoogle\u001b[0m\u001b[1;33m.\u001b[0m\u001b[0mcolab\u001b[0m \u001b[1;32mimport\u001b[0m \u001b[0mdata_table\u001b[0m\u001b[1;33m\u001b[0m\u001b[1;33m\u001b[0m\u001b[0m\n\u001b[0m\u001b[0;32m      2\u001b[0m \u001b[0mdata_table\u001b[0m\u001b[1;33m.\u001b[0m\u001b[0mDataTable\u001b[0m\u001b[1;33m(\u001b[0m\u001b[0mdf\u001b[0m\u001b[1;33m,\u001b[0m \u001b[0minclude_index\u001b[0m\u001b[1;33m=\u001b[0m\u001b[1;32mFalse\u001b[0m\u001b[1;33m,\u001b[0m \u001b[0mnum_rows_per_page\u001b[0m\u001b[1;33m=\u001b[0m\u001b[1;36m10\u001b[0m\u001b[1;33m)\u001b[0m\u001b[1;33m\u001b[0m\u001b[1;33m\u001b[0m\u001b[0m\n",
      "\u001b[1;31mModuleNotFoundError\u001b[0m: No module named 'google.colab'"
     ]
    }
   ],
   "source": [
    "from google.colab import data_table\n",
    "data_table.DataTable(df, include_index=False, num_rows_per_page=10)"
   ]
  },
  {
   "cell_type": "code",
   "execution_count": null,
   "metadata": {
    "colab": {
     "base_uri": "https://localhost:8080/"
    },
    "id": "NnWfIHoswsgR",
    "outputId": "b4f7ad9c-aac7-402f-ae24-0cc10331d2dc"
   },
   "outputs": [],
   "source": [
    "df.columns"
   ]
  },
  {
   "cell_type": "code",
   "execution_count": null,
   "metadata": {
    "colab": {
     "base_uri": "https://localhost:8080/"
    },
    "id": "DX9JoCy1xMKc",
    "outputId": "8714340a-2221-4200-c88b-3e7ea4d8d281"
   },
   "outputs": [],
   "source": [
    "column_names = df.columns.tolist()\n",
    "\n",
    "print(column_names)"
   ]
  },
  {
   "cell_type": "code",
   "execution_count": null,
   "metadata": {
    "colab": {
     "base_uri": "https://localhost:8080/"
    },
    "id": "o56OD8QI9gzj",
    "outputId": "82f6c594-0ced-49d2-da4d-ae5ea56348bc"
   },
   "outputs": [],
   "source": [
    "pd.set_option('display.max_columns', None)\n",
    "\n",
    "# Display the DataFrame with all columns\n",
    "print(df.head())"
   ]
  },
  {
   "cell_type": "code",
   "execution_count": null,
   "metadata": {
    "colab": {
     "base_uri": "https://localhost:8080/"
    },
    "id": "jf0m1GJxFJfY",
    "outputId": "77804937-4219-4407-b7fc-89922d6b0649"
   },
   "outputs": [],
   "source": [
    "df.dtypes"
   ]
  },
  {
   "cell_type": "code",
   "execution_count": null,
   "metadata": {
    "colab": {
     "base_uri": "https://localhost:8080/"
    },
    "id": "xkCwH0xvFL9l",
    "outputId": "e38f2bfb-c369-4454-c5b6-4dd338d5350c"
   },
   "outputs": [],
   "source": [
    "df['P_DETECTION'].value_counts()"
   ]
  },
  {
   "cell_type": "code",
   "execution_count": null,
   "metadata": {
    "colab": {
     "base_uri": "https://localhost:8080/"
    },
    "id": "QSalsmBeFWd-",
    "outputId": "5c365ee2-0c43-4908-ca46-f0df42bbe1fa"
   },
   "outputs": [],
   "source": [
    "df['P_DETECTION'].isna().sum()"
   ]
  },
  {
   "cell_type": "code",
   "execution_count": null,
   "metadata": {
    "colab": {
     "base_uri": "https://localhost:8080/",
     "height": 865
    },
    "id": "UrHd7t8lMAI9",
    "outputId": "4e5e26d1-006d-4771-f671-12c52344066a"
   },
   "outputs": [],
   "source": [
    "\n",
    "import seaborn as sns\n",
    "import matplotlib.pyplot as plt\n",
    "from matplotlib.colors import LinearSegmentedColormap,ListedColormap\n",
    "\n",
    "# Your dataset\n",
    "data = [k for k in range(1451)]\n",
    "\n",
    "# Apply a logarithmic transformation to your data\n",
    "log_transformed_data = [np.log(value) for value in data]\n",
    "\n",
    "# Define the colormap using ListedColormap\n",
    "cmap = ListedColormap(plt.cm.viridis(log_transformed_data))\n",
    "\n",
    "# Assuming 'df' is your DataFrame with the data\n",
    "pivot_table = df.pivot_table(index='P_YEAR', columns='P_DETECTION', aggfunc='size', fill_value=0)\n",
    "plt.figure(figsize=(12, 8))  # Adjust the figure size as needed\n",
    "#colors = [\"#ff6666\", \"#ff9999\", \"#ffffff\", \"#66cc66\"]\n",
    "#cmap = ListedColormap(colors)\n",
    "colors = [\n",
    "   \"#FFFFED\", \"#ff7f0e\", \"#2ca02c\", \"#9467bd\", \"#8c564b\", \"#e377c2\",\n",
    "   \"#7f7f7f\", \"#bcbd22\", \"#17becf\", \"#aec7e8\", \"#ffbb78\", \"#98df8a\", \"#c5b0d5\",\n",
    "   \"#ff9896\", \"#c49c94\", \"#f7b6d2\", \"#c7c7c7\", \"#dbdb8d\", \"#9edae5\", \"#393b79\",\n",
    "   \"#5254a3\", \"#6b6ecf\", \"#9c9ede\", \"#637939\", \"#8ca252\", \"#b5cf6b\", \"#cedb9c\",\n",
    "   \"#8c6d31\", \"#bd9e39\", \"#e7ba52\", \"#e7cb94\", \"#843c39\", \"#ad494a\", \"#d6616b\",\n",
    "   \"#e7969c\", \"#7b4173\", \"#a55194\", \"#ce6dbd\", \"#de9ed6\", \"#3182bd\", \"#6baed6\",\n",
    "   \"#9ecae1\", \"#c6dbef\", \"#e6550d\", \"#fd8d3c\", \"#fdae6b\", \"#fdd0a2\", \"#31a354\",\n",
    "   \"#74c476\", \"#a1d99b\", \"#c7e9c0\", \"#756bb1\", \"#9e9ac8\", \"#bcbddc\", \"#dadaeb\",\n",
    "   \"#636363\", \"#969696\", \"#bdbdbd\", \"#d9d9d9\", \"#fee08b\", \"#ffffbf\", \"#d9ef8b\",\n",
    "   \"#a6d96a\", \"#66bd63\", \"#1a9850\", \"#018571\", \"#006837\", \"#b3de69\", \"#ffffbf\",\n",
    "   \"#bebada\", \"#fb8072\", \"#80b1d3\", \"#fdb462\", \"#b3de69\", \"#fccde5\", \"#d9d9d9\",\n",
    "   \"#bc80bd\", \"#ccebc5\", \"#ffed6f\", \"#bf5b17\", \"#984ea3\", \"#ff7f00\", \"#ffff33\",\n",
    "   \"#a65628\", \"#f781bf\", \"#999999\", \"#66c2a5\", \"#fc8d62\", \"#8da0cb\", \"#e78ac3\",\n",
    "   \"#a6d854\", \"#ffd92f\", \"#e5c494\", \"#b3b3cc\", \"#8dd3c7\", \"#bebada\", \"#fb8072\",\n",
    "   \"#80b1d3\", \"#fdb462\", \"#b3de69\", \"#fccde5\", \"#d9d9d9\", \"#bc80bd\", \"#ccebc5\",\n",
    "   \"#ffed6f\", \"#bf5b17\", \"#984ea3\", \"#ff7f00\", \"#ffff33\", \"#a65628\", \"#f781bf\",\n",
    "   \"#999999\", \"#66c2a5\", \"#fc8d62\", \"#8da0cb\", \"#e78ac3\", \"#a6d854\", \"#ffd92f\",\n",
    "   \"#e5c494\", \"#b3b3cc\", \"#8dd3c7\", \"#ffffb3\", \"#bebada\", \"#fb8072\", \"#80b1d3\",\n",
    "   \"#fdb462\", \"#b3de69\", \"#fccde5\", \"#d9d9d9\", \"#bc80bd\", \"#ccebc5\", \"#ffed6f\",\n",
    "   \"#bf5b17\", \"#984ea3\", \"#ff7f00\", \"#ffff33\", \"#a65628\", \"#f781bf\", \"#999999\",\n",
    "   \"#66c2a5\", \"#fc8d62\", \"#8da0cb\", \"#e78ac3\", \"#a6d854\", \"#ffd92f\", \"#e5c494\",\n",
    "   \"#b3b3cc\", \"#8dd3c7\", \"#ffffb3\", \"#bebada\", \"#fb8072\", \"#80b1d3\", \"#fdb462\",\n",
    "   \"#b3de69\", \"#fccde5\", \"#d9d9d9\", \"#bc80bd\", \"#ccebc5\", \"#ffed6f\", \"#bf5b17\",\n",
    "   \"#984ea3\", \"#ff7f00\", \"#ffff33\", \"#a65628\", \"#f781bf\", \"#999999\", \"#66c2a5\",\n",
    "   \"#fc8d62\", \"#8da0cb\", \"#e78ac3\", \"#a6d854\", \"#ffd92f\", \"#e5c494\", \"#b3b3cc\",\n",
    "   \"#8dd3c7\", \"#ffffb3\", \"#bebada\", \"#fb8072\", \"#80b1d3\", \"#fdb462\", \"#b3de69\",\n",
    "   \"#fccde5\", \"#d9d9d9\", \"#bc80bd\", \"#ccebc5\", \"#ffed6f\", \"#bf5b17\", \"#984ea3\",\n",
    "   \"#ff7f00\", \"#ffff33\", \"#a65628\", \"#f781bf\", \"#999999\", \"#66c2a5\", \"#fc8d62\",\n",
    "   \"#8da0cb\", \"#e78ac3\", \"#a6d854\", \"#ffd92f\", \"#e5c494\", \"#b3b3cc\", \"#8dd3c7\",\n",
    "   \"#ffffb3\", \"#bebada\", \"#fb8072\", \"#80b1d3\", \"#fdb462\", \"#b3de69\", \"#fccde5\",\n",
    "   \"#d9d9d9\", \"#bc80bd\", \"#ccebc5\", \"#ffed6f\", \"#bf5b17\", \"#984ea3\", \"#ff7f00\",\n",
    "   \"#ffff33\", \"#a65628\", \"#f781bf\", \"#999999\", \"#66c2a5\", \"#fc8d62\", \"#8da0cb\",\n",
    "   \"#e78ac3\", \"#a6d854\", \"#ffd92f\", \"#e5c494\", \"#b3b3cc\", \"#8dd3c7\", \"#ffffb3\",\n",
    "   \"#bebada\", \"#fb8072\", \"#80b1d3\", \"#fdb462\", \"#b3de69\", \"#fccde5\", \"#d9d9d9\",\n",
    "   \"#bc80bd\", \"#ccebc5\", \"#ffed6f\", \"#bf5b17\", \"#984ea3\", \"#ff7f00\", \"#ffff33\",\n",
    "   \"#a65628\", \"#f781bf\", \"#999999\", \"#66c2a5\", \"#fc8d62\", \"#8da0cb\", \"#e78ac3\",\n",
    "   \"#a6d854\", \"#ffd92f\", \"#e5c494\", \"#b3b3cc\", \"#8dd3c7\", \"#ffffb3\", \"#bebada\",\"#d62728\",\n",
    "   \"#fb8072\", \"#80b1d3\", \"#fdb462\", \"#b3de69\", \"#fccde5\", \"#d9d9d9\", \"#bc80bd\",\n",
    "   \"#ccebc5\", \"#ffed6f\", \"#bf5b17\", \"#984ea3\", \"#ff7f00\", \"#ffff33\", \"#a65628\",\n",
    "   \"#f781bf\", \"#999999\", \"#66c2a5\", \"#fc8d62\", \"#8da0cb\", \"#e78ac3\", \"#a6d854\",\n",
    "   \"#ffd92f\", \"#e5c494\", \"#b3b3cc\", \"#8dd3c7\", \"#ffffb3\"\n",
    "]\n",
    "\n",
    "#cmap = ListedColormap(colors)\n",
    "sns.heatmap(pivot_table,cmap=cmap,vmin = 0,vmax = 1500, annot=True,fmt='d', linewidths=0.5)\n",
    "plt.title('Planetary Detection Methods Over the Years')\n",
    "plt.xlabel('Planetary Detection Method')\n",
    "plt.ylabel('Year')\n",
    "plt.show()"
   ]
  },
  {
   "cell_type": "code",
   "execution_count": null,
   "metadata": {
    "colab": {
     "base_uri": "https://localhost:8080/",
     "height": 1000
    },
    "id": "cOVqh2AymCid",
    "outputId": "f5691611-17e7-4130-9c1d-93bf809c8dd6"
   },
   "outputs": [],
   "source": [
    "pivot_table"
   ]
  },
  {
   "cell_type": "code",
   "execution_count": 17,
   "metadata": {
    "colab": {
     "base_uri": "https://localhost:8080/",
     "height": 699
    },
    "id": "wmnAQV5dltMm",
    "outputId": "a548d55f-662e-469a-96cf-a1fa7b3e261c",
    "scrolled": true
   },
   "outputs": [
    {
     "data": {
      "image/png": "[encoded data removed]",
      "text/plain": [
       "<Figure size 1200x800 with 2 Axes>"
      ]
     },
     "metadata": {},
     "output_type": "display_data"
    }
   ],
   "source": [
    "import numpy as np\n",
    "import matplotlib.pyplot as plt\n",
    "\n",
    "# Generate your 2D matrix (example)\n",
    "matrix = df.pivot_table(index='P_YEAR', columns='P_DETECTION', aggfunc='size', fill_value=0)  # Example matrix, adjust as needed\n",
    "\n",
    "# Apply a logarithmic transformation to the matrix\n",
    "log_transformed_matrix = np.log(matrix.add(1))\n",
    "\n",
    "# Create a custom colormap for the logarithmic values\n",
    "cmap = plt.cm.viridis\n",
    "\n",
    "# Create a heatmap\n",
    "plt.figure(figsize=(12,12))\n",
    "im = plt.imshow(log_transformed_matrix, cmap=cmap)\n",
    "\n",
    "# Add a colorbar to show the original values corresponding to colors\n",
    "cbar = plt.colorbar(im, label='Log-Transformed Values')\n",
    "\n",
    "# Set the tick labels of the colorbar to show the original values\n",
    "tick_values = np.linspace(log_transformed_matrix.min().min(), log_transformed_matrix.max().max(), num=6)\n",
    "cbar.set_ticks(tick_values)\n",
    "cbar.set_ticklabels(np.round(np.exp(tick_values)).astype(int))\n",
    "\n",
    "plt.title('Heatmap with Logarithmic Colors')\n",
    "plt.show()"
   ]
  },
  {
   "cell_type": "code",
   "execution_count": 15,
   "metadata": {},
   "outputs": [
    {
     "data": {
      "text/plain": [
       "array([[0.        , 0.        , 0.        , 0.        , 0.        ,\n",
       "        0.        , 0.        , 0.        , 0.        , 0.        ],\n",
       "       [0.13862944, 0.27725887, 0.43944492, 0.60890449, 0.27725887,\n",
       "        0.21972246, 0.13862944, 0.86081302, 1.45489591, 0.51298987],\n",
       "       [0.27725887, 0.55451774, 0.87888983, 1.21780898, 0.55451774,\n",
       "        0.43944492, 0.27725887, 1.72162604, 2.90979182, 1.02597974],\n",
       "       [0.41588831, 0.83177662, 1.31833475, 1.82671346, 0.83177662,\n",
       "        0.65916737, 0.41588831, 2.58243906, 4.36468774, 1.53896961],\n",
       "       [0.55451774, 1.10903549, 1.75777966, 2.43561795, 1.10903549,\n",
       "        0.87888983, 0.55451774, 3.44325207, 5.81958365, 2.05195949],\n",
       "       [0.69314718, 1.38629436, 2.19722458, 3.04452244, 1.38629436,\n",
       "        1.09861229, 0.69314718, 4.30406509, 7.27447956, 2.56494936]])"
      ]
     },
     "execution_count": 15,
     "metadata": {},
     "output_type": "execute_result"
    }
   ],
   "source": [
    "tick_values"
   ]
  },
  {
   "cell_type": "code",
   "execution_count": 13,
   "metadata": {},
   "outputs": [
    {
     "data": {
      "text/plain": [
       "array([0.        , 1.45489591, 2.90979182, 4.36468774, 5.81958365,\n",
       "       7.27447956])"
      ]
     },
     "execution_count": 13,
     "metadata": {},
     "output_type": "execute_result"
    }
   ],
   "source": [
    "tick_values"
   ]
  },
  {
   "cell_type": "code",
   "execution_count": 12,
   "metadata": {},
   "outputs": [
    {
     "data": {
      "text/plain": [
       "array([[0.        , 0.        , 0.        , 0.        , 0.        ,\n",
       "        0.        , 0.        , 0.69314718, 0.        , 0.        ],\n",
       "       [0.        , 0.        , 0.        , 0.        , 0.        ,\n",
       "        1.09861229, 0.        , 0.        , 0.        , 0.        ],\n",
       "       [0.        , 0.        , 0.        , 0.        , 0.        ,\n",
       "        0.69314718, 0.        , 0.        , 0.        , 0.        ],\n",
       "       [0.        , 0.        , 0.        , 0.        , 0.        ,\n",
       "        0.        , 0.        , 0.69314718, 0.        , 0.        ],\n",
       "       [0.        , 0.        , 0.        , 0.        , 0.        ,\n",
       "        0.        , 0.        , 1.94591015, 0.        , 0.        ],\n",
       "       [0.        , 0.        , 0.        , 0.        , 0.        ,\n",
       "        0.        , 0.        , 0.69314718, 0.        , 0.        ],\n",
       "       [0.        , 0.        , 0.        , 0.        , 0.        ,\n",
       "        0.        , 0.        , 1.94591015, 0.        , 0.        ],\n",
       "       [0.        , 0.        , 0.        , 0.        , 0.        ,\n",
       "        0.        , 0.        , 2.63905733, 0.        , 0.        ],\n",
       "       [0.        , 0.        , 0.        , 0.        , 0.        ,\n",
       "        0.        , 0.        , 2.83321334, 0.        , 0.        ],\n",
       "       [0.        , 0.        , 0.        , 0.        , 0.        ,\n",
       "        0.        , 0.        , 2.56494936, 0.        , 0.        ],\n",
       "       [0.        , 0.        , 0.        , 0.        , 0.        ,\n",
       "        0.        , 0.        , 3.36729583, 0.69314718, 0.        ],\n",
       "       [0.        , 0.        , 0.        , 0.        , 0.        ,\n",
       "        0.69314718, 0.        , 3.09104245, 0.        , 0.        ],\n",
       "       [0.        , 0.        , 1.38629436, 0.69314718, 0.        ,\n",
       "        0.        , 0.        , 2.94443898, 1.79175947, 0.        ],\n",
       "       [0.        , 0.        , 0.69314718, 1.09861229, 0.        ,\n",
       "        0.        , 0.        , 3.52636052, 0.        , 0.        ],\n",
       "       [0.        , 0.        , 1.60943791, 0.69314718, 0.        ,\n",
       "        0.        , 0.        , 3.09104245, 1.79175947, 0.        ],\n",
       "       [0.        , 0.        , 0.69314718, 0.        , 0.        ,\n",
       "        0.        , 0.69314718, 3.52636052, 2.83321334, 0.        ],\n",
       "       [0.        , 0.        , 2.19722458, 1.60943791, 0.        ,\n",
       "        0.        , 0.        , 3.66356165, 2.89037176, 0.        ],\n",
       "       [0.        , 0.69314718, 0.69314718, 1.09861229, 0.        ,\n",
       "        0.        , 0.        , 4.30406509, 2.94443898, 0.        ],\n",
       "       [0.        , 1.09861229, 1.94591015, 1.09861229, 0.        ,\n",
       "        0.        , 0.        , 3.73766962, 3.8501476 , 0.        ],\n",
       "       [0.        , 1.38629436, 1.09861229, 0.69314718, 1.09861229,\n",
       "        0.69314718, 0.        , 3.87120101, 4.38202663, 0.69314718],\n",
       "       [0.        , 0.69314718, 1.09861229, 2.07944154, 0.        ,\n",
       "        0.        , 0.        , 3.55534806, 4.54329478, 0.69314718],\n",
       "       [0.69314718, 0.        , 1.94591015, 1.79175947, 0.69314718,\n",
       "        0.        , 0.        , 3.49650756, 4.36944785, 0.69314718],\n",
       "       [0.        , 0.        , 1.09861229, 1.79175947, 1.38629436,\n",
       "        0.        , 0.        , 3.71357207, 6.68336095, 2.56494936],\n",
       "       [0.        , 0.69314718, 1.79175947, 1.60943791, 0.        ,\n",
       "        0.        , 0.        , 3.87120101, 4.61512052, 0.        ],\n",
       "       [0.        , 0.        , 1.09861229, 2.39789527, 0.        ,\n",
       "        0.        , 0.69314718, 3.91202301, 7.27447956, 0.69314718],\n",
       "       [0.        , 0.69314718, 0.69314718, 2.30258509, 0.        ,\n",
       "        0.69314718, 0.        , 3.91202301, 4.48863637, 0.        ],\n",
       "       [0.        , 0.69314718, 0.69314718, 3.04452244, 0.        ,\n",
       "        0.        , 0.        , 3.8501476 , 5.49306144, 0.69314718],\n",
       "       [0.        , 0.69314718, 1.09861229, 1.79175947, 0.        ,\n",
       "        0.        , 0.        , 4.09434456, 4.46590812, 0.69314718]])"
      ]
     },
     "execution_count": 12,
     "metadata": {},
     "output_type": "execute_result"
    }
   ],
   "source": [
    "log_transformed_matrix"
   ]
  },
  {
   "cell_type": "code",
   "execution_count": null,
   "metadata": {
    "colab": {
     "base_uri": "https://localhost:8080/"
    },
    "id": "NxfYZArUnqP1",
    "outputId": "8de59f5b-6254-4fdb-c67d-e872b6e3062c"
   },
   "outputs": [],
   "source": [
    "df['S_AGE'].isna().sum()"
   ]
  },
  {
   "cell_type": "code",
   "execution_count": null,
   "metadata": {
    "colab": {
     "base_uri": "https://localhost:8080/"
    },
    "id": "ZFH08kxoDaC2",
    "outputId": "a0e48c66-61a0-44d5-8257-84ccda88351f"
   },
   "outputs": [],
   "source": [
    "df['S_METALLICITY'].isna().sum()"
   ]
  },
  {
   "cell_type": "code",
   "execution_count": null,
   "metadata": {
    "colab": {
     "base_uri": "https://localhost:8080/"
    },
    "id": "VpZfuzjTJdAI",
    "outputId": "2e41696c-03d3-4378-d720-217df88225f5"
   },
   "outputs": [],
   "source": [
    "df['S_AGE']"
   ]
  },
  {
   "cell_type": "code",
   "execution_count": null,
   "metadata": {
    "colab": {
     "base_uri": "https://localhost:8080/",
     "height": 564
    },
    "id": "8brwseKfD2Ml",
    "outputId": "8713ee4e-ac97-4f26-de5d-7be326f6ebcd"
   },
   "outputs": [],
   "source": [
    "correlation_coefficient = df['S_AGE'].corr(df['S_METALLICITY'])\n",
    "plt.figure(figsize=(8, 6))\n",
    "sns.scatterplot(x='S_AGE', y='S_METALLICITY', data=df)\n",
    "plt.title(f'Age vs. Metallicity (Correlation: {correlation_coefficient:.2f})')\n",
    "plt.xlabel('Host Star Age')\n",
    "plt.ylabel('Exoplanet Metallicity')\n",
    "plt.show()\n"
   ]
  },
  {
   "cell_type": "code",
   "execution_count": null,
   "metadata": {
    "colab": {
     "base_uri": "https://localhost:8080/"
    },
    "id": "-XjsMWnGJzQq",
    "outputId": "3458e523-0dc3-43ce-d466-e94ca432a882"
   },
   "outputs": [],
   "source": [
    "df['S_AGE'].describe()"
   ]
  },
  {
   "cell_type": "code",
   "execution_count": null,
   "metadata": {
    "colab": {
     "base_uri": "https://localhost:8080/",
     "height": 466
    },
    "id": "5xS4UlmjLVXj",
    "outputId": "1a8e6a59-88c9-4985-ef6b-89ed5634c237"
   },
   "outputs": [],
   "source": [
    "plt.plot(df['S_AGE'],df['S_METALLICITY'])\n",
    "plt.xlabel(\"Host star age\")\n",
    "plt.ylabel(\"Exoplanet metallicity\")\n",
    "plt.title(\"\")"
   ]
  },
  {
   "cell_type": "code",
   "execution_count": null,
   "metadata": {
    "colab": {
     "base_uri": "https://localhost:8080/",
     "height": 542
    },
    "id": "Nkp070JIOdVI",
    "outputId": "5b9a56d6-1746-442a-c5d1-b160538dd10e"
   },
   "outputs": [],
   "source": [
    "import plotly.express as px\n",
    "fig4 = px.density_heatmap(df,x='S_AGE',y='S_METALLICITY')\n",
    "fig4"
   ]
  },
  {
   "cell_type": "code",
   "execution_count": null,
   "metadata": {
    "colab": {
     "base_uri": "https://localhost:8080/",
     "height": 472
    },
    "id": "4ba81T8JMoFi",
    "outputId": "7f54818d-cb5a-4292-e7e0-56ae455bf382"
   },
   "outputs": [],
   "source": [
    "correlation_coefficient = df['S_AGE'].corr(df['S_METALLICITY'])\n",
    "import matplotlib.pyplot as plt\n",
    "import seaborn as sns\n",
    "\n",
    "# Scatter plot\n",
    "sns.scatterplot(x='S_AGE', y='S_METALLICITY', data=df)\n",
    "plt.xlabel('Host Star Age')\n",
    "plt.ylabel('Exoplanet Metallicity')\n",
    "plt.title(f'Age vs. Metallicity (Correlation: {correlation_coefficient:.2f})')\n",
    "plt.show()\n"
   ]
  },
  {
   "cell_type": "markdown",
   "metadata": {
    "id": "YJfc4XL_ScxK"
   },
   "source": [
    "Patterns that align with our understanding of stellar evolution and planet formation can be identified through the analysis of data related to exoplanets and their host stars. Here are some patterns and observations that align with our current understanding:\n",
    "\n",
    "1. **Metallicity and Planet Formation**:\n",
    "   - Planets tend to form more frequently around metal-rich stars. Higher metallicity provides more solid material for core formation.\n",
    "\n",
    "2. **Stellar Age and Planet Formation**:\n",
    "   - Younger stars often have more active protoplanetary disks, which can lead to the formation of planets. Older stars may have less material available for planet formation. However, this relationship is complex, as some planets may continue to form or migrate over long periods.\n",
    "\n",
    "3. **Exoplanet Types**:\n",
    "   - Gas giants (like Jupiter) are often found farther from their host stars, while rocky planets (like Earth) are closer. This aligns with our understanding of the frost line, where volatile compounds freeze and are more abundant farther from the star, allowing gas giants to form there.\n",
    "\n",
    "5. **Multiple Star Systems**:\n",
    "   - Planets in multiple star systems, such as binary or trinary stars, can have complex and unique orbital dynamics. Understanding these patterns can provide insights into how planets can form and maintain stable orbits in such systems.\n",
    "\n",
    "6. **Stellar Metallicity and Stellar Evolution**:\n",
    "   - Stellar metallicity is related to the age and evolutionary stage of stars. Older stars with low metallicity are often found in globular clusters, while younger stars with higher metallicity are found in the galactic disk. This can provide clues about the conditions for planet formation in different galactic environments.\n",
    "\n",
    "7. **Planetary Atmospheres**:\n",
    "   - The composition and structure of exoplanet atmospheres can be indicative of their formation history and evolution. For instance, a lack of hydrogen and helium in the atmosphere of a gas giant suggests it may have undergone atmospheric loss or differentiation.\n",
    "\n",
    "8. **Planetary Migration**:\n",
    "   - Some exoplanets exhibit patterns of migration, where they move from their original formation locations. This can be due to interactions with the protoplanetary disk, other planets, or tidal forces from the host star.\n",
    "\n",
    "It's important to note that while these patterns align with our current understanding of stellar evolution and planet formation, the field of exoplanet research is continually evolving, and new discoveries can challenge or refine our theories. Therefore, ongoing observations and analyses are essential to further our understanding of these complex processes."
   ]
  },
  {
   "cell_type": "code",
   "execution_count": null,
   "metadata": {
    "id": "32A2bJvPTS_S"
   },
   "outputs": [],
   "source": []
  }
 ],
 "metadata": {
  "colab": {
   "provenance": []
  },
  "kernelspec": {
   "display_name": "Python 3 (ipykernel)",
   "language": "python",
   "name": "python3"
  },
  "language_info": {
   "codemirror_mode": {
    "name": "ipython",
    "version": 3
   },
   "file_extension": ".py",
   "mimetype": "text/x-python",
   "name": "python",
   "nbconvert_exporter": "python",
   "pygments_lexer": "ipython3",
   "version": "3.9.13"
  }
 },
 "nbformat": 4,
 "nbformat_minor": 1
}
